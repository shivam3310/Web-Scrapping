{
 "cells": [
  {
   "cell_type": "code",
   "execution_count": 1,
   "metadata": {},
   "outputs": [
    {
     "name": "stdout",
     "output_type": "stream",
     "text": [
      "product_name:Apple iPhone 6s (Space Grey, 32 GB)\n",
      "price:₹27,999₹29,9006% offUp to ₹17,900 Off on ExchangeEMI starting from ₹1319/monthOffersNo Cost EMISpecial PriceBank Offer\n",
      "ratings:4.586,435 Ratings & 8,993 Reviews\n",
      "product_name:Apple iPhone 6s (Gold, 32 GB)\n",
      "price:₹27,999₹29,9006% offUp to ₹17,900 Off on ExchangeEMI starting from ₹1319/monthOffersNo Cost EMISpecial PriceBank Offer\n",
      "ratings:4.586,435 Ratings & 8,993 Reviews\n",
      "product_name:Apple iPhone 6s (Rose Gold, 32 GB)\n",
      "price:₹27,999₹29,9006% offUp to ₹17,900 Off on ExchangeEMI starting from ₹1319/monthOffersNo Cost EMISpecial PriceBank Offer\n",
      "ratings:4.586,435 Ratings & 8,993 Reviews\n",
      "product_name:Apple iPhone XR ((PRODUCT)RED, 64 GB)\n",
      "price:₹57,999₹76,90024% offUp to ₹17,900 Off on ExchangeEMI starting from ₹1983/monthOffersNo Cost EMISpecial PriceBank Offer\n",
      "ratings:4.63,003 Ratings & 276 Reviews\n",
      "product_name:Apple iPhone XR (Black, 128 GB)\n",
      "price:₹62,999₹81,90023% offUp to ₹17,900 Off on ExchangeEMI starting from ₹2154/monthOffersNo Cost EMISpecial PriceBank Offer\n",
      "ratings:4.63,003 Ratings & 276 Reviews\n",
      "product_name:Apple iPhone XR (White, 128 GB)\n",
      "price:₹62,999₹81,90023% offUp to ₹17,900 Off on ExchangeEMI starting from ₹2154/monthOffersNo Cost EMISpecial PriceBank Offer\n",
      "ratings:4.63,003 Ratings & 276 Reviews\n",
      "product_name:Apple iPhone XR (White, 64 GB)\n",
      "price:₹57,999₹76,90024% offUp to ₹17,900 Off on ExchangeEMI starting from ₹1983/monthOffersNo Cost EMISpecial PriceBank Offer\n",
      "ratings:4.63,003 Ratings & 276 Reviews\n",
      "product_name:Apple iPhone XR (Blue, 64 GB)\n",
      "price:₹57,999₹76,90024% offUp to ₹17,900 Off on ExchangeEMI starting from ₹1983/monthOffersNo Cost EMISpecial PriceBank Offer\n",
      "ratings:4.63,003 Ratings & 276 Reviews\n",
      "product_name:Apple iPhone XR (Black, 64 GB)\n",
      "price:₹57,999₹76,90024% offUp to ₹17,900 Off on ExchangeEMI starting from ₹1983/monthOffersNo Cost EMISpecial PriceBank Offer\n",
      "ratings:4.63,003 Ratings & 276 Reviews\n",
      "product_name:Apple iPhone XR (Coral, 128 GB)\n",
      "price:₹62,999₹81,90023% offUp to ₹17,900 Off on ExchangeEMI starting from ₹2154/monthOffersNo Cost EMISpecial PriceBank Offer\n",
      "ratings:4.63,003 Ratings & 276 Reviews\n",
      "product_name:Apple iPhone XR (Coral, 64 GB)\n",
      "price:₹57,999₹76,90024% offUp to ₹17,900 Off on ExchangeEMI starting from ₹1983/monthOffersNo Cost EMISpecial PriceBank Offer\n",
      "ratings:4.63,003 Ratings & 276 Reviews\n",
      "product_name:Apple iPhone X (Space Gray, 64 GB)\n",
      "price:₹69,999₹91,90023% offUp to ₹17,900 Off on ExchangeEMI starting from ₹2393/monthOffersNo Cost EMISpecial Price\n",
      "ratings:4.68,288 Ratings & 704 Reviews\n",
      "product_name:Apple iPhone XR ((PRODUCT)RED, 128 GB)\n",
      "price:₹64,799₹69,4996% offEMI starting from ₹2215/monthOffersSpecial Price\n",
      "ratings:4.63,003 Ratings & 276 Reviews\n"
     ]
    },
    {
     "ename": "IndexError",
     "evalue": "list index out of range",
     "output_type": "error",
     "traceback": [
      "\u001b[1;31m---------------------------------------------------------------------------\u001b[0m",
      "\u001b[1;31mIndexError\u001b[0m                                Traceback (most recent call last)",
      "\u001b[1;32m<ipython-input-1-5db919aec218>\u001b[0m in \u001b[0;36m<module>\u001b[1;34m\u001b[0m\n\u001b[0;32m     36\u001b[0m \u001b[1;33m\u001b[0m\u001b[0m\n\u001b[0;32m     37\u001b[0m     \u001b[0mrating_container\u001b[0m\u001b[1;33m=\u001b[0m \u001b[0mcontainer\u001b[0m\u001b[1;33m.\u001b[0m\u001b[0mfindAll\u001b[0m\u001b[1;33m(\u001b[0m\u001b[1;34m\"div\"\u001b[0m\u001b[1;33m,\u001b[0m\u001b[1;33m{\u001b[0m\u001b[1;34m\"class\"\u001b[0m\u001b[1;33m:\u001b[0m\u001b[1;34m\"niH0FQ\"\u001b[0m\u001b[1;33m}\u001b[0m\u001b[1;33m)\u001b[0m\u001b[1;33m\u001b[0m\u001b[1;33m\u001b[0m\u001b[0m\n\u001b[1;32m---> 38\u001b[1;33m     \u001b[0mrating\u001b[0m\u001b[1;33m=\u001b[0m \u001b[0mrating_container\u001b[0m\u001b[1;33m[\u001b[0m\u001b[1;36m0\u001b[0m\u001b[1;33m]\u001b[0m\u001b[1;33m.\u001b[0m\u001b[0mtext\u001b[0m\u001b[1;33m\u001b[0m\u001b[1;33m\u001b[0m\u001b[0m\n\u001b[0m\u001b[0;32m     39\u001b[0m \u001b[1;33m\u001b[0m\u001b[0m\n\u001b[0;32m     40\u001b[0m     \u001b[0mprint\u001b[0m\u001b[1;33m(\u001b[0m\u001b[1;34m\"product_name:\"\u001b[0m\u001b[1;33m+\u001b[0m\u001b[0mproduct_name\u001b[0m\u001b[1;33m)\u001b[0m\u001b[1;33m\u001b[0m\u001b[1;33m\u001b[0m\u001b[0m\n",
      "\u001b[1;31mIndexError\u001b[0m: list index out of range"
     ]
    }
   ],
   "source": [
    "from bs4 import BeautifulSoup as soup\n",
    "from urllib.request import urlopen as uReq\n",
    "\n",
    "my_url= 'https://www.flipkart.com/search?q=iphone&otracker=search&otracker1=search&marketplace=FLIPKART&as-show=on&as=off'\n",
    "\n",
    "uClient= uReq(my_url)\n",
    "page_html= uClient.read()\n",
    "uClient.close()\n",
    "page_soup= soup(page_html, \"html.parser\")\n",
    "\n",
    "containers= page_soup.findAll(\"div\",{\"class\": \"_3O0U0u\"})\n",
    "#print(len(containers))\n",
    "\n",
    "#print(soup.prettify(containers[0]))\n",
    "\n",
    "container= containers[0]\n",
    "#print(container.div.img[\"alt\"])\n",
    "\n",
    "price= container.findAll(\"div\",{\"class\":\"col col-5-12 _2o7WAb\"})\n",
    "#print(price[0].text)\n",
    "\n",
    "ratings= container.findAll(\"div\",{\"class\":\"niH0FQ\"})\n",
    "#print(ratings[0].text)\n",
    "\n",
    "filename=\"products.csv\"\n",
    "f= open(filename,\"w\")\n",
    "\n",
    "headers=\"Product_Name,Pricing,Ratings\\n\"\n",
    "f.write(headers)\n",
    "\n",
    "for container in containers:\n",
    "    product_name= container.div.img[\"alt\"]\n",
    "    \n",
    "    price_container= container.findAll(\"div\",{\"class\":\"col col-5-12 _2o7WAb\"})\n",
    "    price= price_container[0].text.strip()\n",
    "    \n",
    "    rating_container= container.findAll(\"div\",{\"class\":\"niH0FQ\"})\n",
    "    rating= rating_container[0].text\n",
    "\n",
    "    print(\"product_name:\"+product_name)\n",
    "    print(\"price:\"+price)\n",
    "    print(\"ratings:\"+rating)\n",
    "    \n",
    "f.close()\n",
    "\n",
    "\n",
    "\n",
    "\n"
   ]
  },
  {
   "cell_type": "code",
   "execution_count": null,
   "metadata": {},
   "outputs": [],
   "source": []
  },
  {
   "cell_type": "code",
   "execution_count": null,
   "metadata": {},
   "outputs": [],
   "source": []
  }
 ],
 "metadata": {
  "kernelspec": {
   "display_name": "Python 3",
   "language": "python",
   "name": "python3"
  },
  "language_info": {
   "codemirror_mode": {
    "name": "ipython",
    "version": 3
   },
   "file_extension": ".py",
   "mimetype": "text/x-python",
   "name": "python",
   "nbconvert_exporter": "python",
   "pygments_lexer": "ipython3",
   "version": "3.7.3"
  }
 },
 "nbformat": 4,
 "nbformat_minor": 2
}
